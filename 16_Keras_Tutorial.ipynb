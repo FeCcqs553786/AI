{
  "nbformat": 4,
  "nbformat_minor": 0,
  "metadata": {
    "colab": {
      "name": "16.Keras_Tutorial.ipynb",
      "provenance": [],
      "collapsed_sections": []
    },
    "kernelspec": {
      "name": "python3",
      "display_name": "Python 3"
    },
    "language_info": {
      "name": "python"
    }
  },
  "cells": [
    {
      "cell_type": "markdown",
      "metadata": {
        "id": "8HgZm6i46_SF"
      },
      "source": [
        "# Keras深度學習初體驗  \n",
        "利用keras套件，產生一個32個神經元的深度學習模型進行訓練"
      ]
    },
    {
      "cell_type": "code",
      "metadata": {
        "id": "t6dmJcOH66wX"
      },
      "source": [
        "import keras #導入keras keras`: 依附於tensorflow上。簡單的一個套件\n",
        "from keras.models import Sequential #導入keras Sequential\n",
        "from keras.layers import Dense #導入keras.layers Dense"
      ],
      "execution_count": 6,
      "outputs": []
    },
    {
      "cell_type": "markdown",
      "metadata": {
        "id": "pPo1eVzu7WX2"
      },
      "source": [
        "## 隨機產生1000筆資料，用來做為訓練資料\n",
        "## 每筆資料包含十個float數字, 跟一個相對應的標籤(label)"
      ]
    },
    {
      "cell_type": "code",
      "metadata": {
        "colab": {
          "base_uri": "https://localhost:8080/"
        },
        "id": "2tj2eS9R7K3L",
        "outputId": "21ab520a-4812-4c40-d709-f2d565552a80"
      },
      "source": [
        "import numpy as np #導入numpy\n",
        "#隨機產生1000筆資料，每筆資料包含十個float數字\n",
        "data = np.random.random((1000, 10)) \n",
        "#隨機產生1000筆資料作為標籤，每筆資料上限為2(意思就是0 或 1)\n",
        "labels = np.random.randint(2, size=(1000, 1)) #random.randint（a，b ）返回一個隨機整數N，使。的別名 。a <= N <= brandrange(a, b+1)\n",
        "print(np.shape(data))  #列出data的的筆數\n",
        "print(data[0])  #列出data的第一筆資料\n",
        "print(np.shape(labels)) #列出label的的筆數\n",
        "print(labels[0]) #列出label的第一筆資料"
      ],
      "execution_count": 7,
      "outputs": [
        {
          "output_type": "stream",
          "text": [
            "(1000, 10)\n",
            "[0.22137758 0.57621043 0.76947717 0.09697927 0.66099518 0.43876196\n",
            " 0.6234901  0.59899022 0.72304258 0.11665968]\n",
            "(1000, 1)\n",
            "[1]\n"
          ],
          "name": "stdout"
        }
      ]
    },
    {
      "cell_type": "markdown",
      "metadata": {
        "id": "0jDbkgjk7SAG"
      },
      "source": [
        "## 步驟一：定義學習模型模型"
      ]
    },
    {
      "cell_type": "code",
      "metadata": {
        "id": "b0GtAuRl7SMV"
      },
      "source": [
        "#定義模型為一層一層堆疊模式\n",
        "model = Sequential()\n",
        "#定義第一層為32個神經元，輸入資料的維度為10，門檻函數為relu\n",
        "model.add(Dense(32, activation='relu', input_dim=10))\n",
        "#定義第二層為1個神經元的輸出層，門檻函數為sigmoid\n",
        "model.add(Dense(1, activation='sigmoid'))"
      ],
      "execution_count": 9,
      "outputs": []
    },
    {
      "cell_type": "markdown",
      "metadata": {
        "id": "-gfKpEGS85mq"
      },
      "source": [
        "## 步驟二：定義評估函數"
      ]
    },
    {
      "cell_type": "code",
      "metadata": {
        "id": "IaSThgGF85x3"
      },
      "source": [
        "#模型編譯: 選擇損失函數、優化方法及成效衡量方式\n",
        "model.compile(optimizer='rmsprop', loss='binary_crossentropy', metrics=['accuracy']) #model.compile(優化方法,損失函數,衡量方式)"
      ],
      "execution_count": 10,
      "outputs": []
    },
    {
      "cell_type": "markdown",
      "metadata": {
        "id": "B6LA_9t9_oWd"
      },
      "source": [
        "## 步驟三：重複計算並調整模型"
      ]
    },
    {
      "cell_type": "code",
      "metadata": {
        "colab": {
          "base_uri": "https://localhost:8080/"
        },
        "id": "7SUebPYm_oo9",
        "outputId": "d81ad0bd-9bb7-4a05-bca4-85b15cc2387d"
      },
      "source": [
        "#將測試資料data，與相對應的結果(標籤)，丟進模型進行訓練\n",
        "#1000筆資料每次同時以32筆進行訓練，直到1000筆資料結束為止\n",
        "#總共要訓練10次(epochs)\n",
        "#epochs：整數，訓練終止時的epoch值，訓練將在達到該epoch值時停止，當沒有設置initial_epoch時，它就是訓練的總輪數，否則訓練的總輪數為epochs - inital_epoch\n",
        "#batch_size：整數，指定進行梯度下降時每個batch包含的樣本數。訓練時一個batch的樣本會被計算一次梯度下降，使目標函數優化一步\n",
        "model.fit(data, labels, epochs=10, batch_size=32) #丟入測試資料data與標籤資料labels，每次丟10回合，共丟32次\n"
      ],
      "execution_count": 13,
      "outputs": [
        {
          "output_type": "stream",
          "text": [
            "Epoch 1/10\n",
            "32/32 [==============================] - 0s 1ms/step - loss: 0.6880 - accuracy: 0.5440\n",
            "Epoch 2/10\n",
            "32/32 [==============================] - 0s 1ms/step - loss: 0.6879 - accuracy: 0.5430\n",
            "Epoch 3/10\n",
            "32/32 [==============================] - 0s 1ms/step - loss: 0.6876 - accuracy: 0.5540\n",
            "Epoch 4/10\n",
            "32/32 [==============================] - 0s 1ms/step - loss: 0.6872 - accuracy: 0.5570\n",
            "Epoch 5/10\n",
            "32/32 [==============================] - 0s 1ms/step - loss: 0.6870 - accuracy: 0.5510\n",
            "Epoch 6/10\n",
            "32/32 [==============================] - 0s 1ms/step - loss: 0.6868 - accuracy: 0.5580\n",
            "Epoch 7/10\n",
            "32/32 [==============================] - 0s 1ms/step - loss: 0.6866 - accuracy: 0.5560\n",
            "Epoch 8/10\n",
            "32/32 [==============================] - 0s 1ms/step - loss: 0.6862 - accuracy: 0.5530\n",
            "Epoch 9/10\n",
            "32/32 [==============================] - 0s 1ms/step - loss: 0.6857 - accuracy: 0.5630\n",
            "Epoch 10/10\n",
            "32/32 [==============================] - 0s 963us/step - loss: 0.6859 - accuracy: 0.5710\n"
          ],
          "name": "stdout"
        },
        {
          "output_type": "execute_result",
          "data": {
            "text/plain": [
              "<tensorflow.python.keras.callbacks.History at 0x7fc2452ad0d0>"
            ]
          },
          "metadata": {
            "tags": []
          },
          "execution_count": 13
        }
      ]
    },
    {
      "cell_type": "markdown",
      "metadata": {
        "id": "MMPmLfxgAOaP"
      },
      "source": [
        "## 把測試資料丟入觀看評估結果"
      ]
    },
    {
      "cell_type": "code",
      "metadata": {
        "colab": {
          "base_uri": "https://localhost:8080/"
        },
        "id": "bVKH8R_cAOjH",
        "outputId": "4de196c4-2d3c-453d-831e-e4f94f347f28"
      },
      "source": [
        "#本範例將訓練資料作為測試資料進行評估\n",
        "#score[0]為誤差值，score[1]為正確性\n",
        "score=model.evaluate(data, labels) #將測試資料data與標籤資料labels丟入evaluate傳入score變數\n",
        "print(score[1]) #列出第一個score的第二個資料"
      ],
      "execution_count": null,
      "outputs": [
        {
          "output_type": "stream",
          "text": [
            "32/32 [==============================] - 0s 1ms/step - loss: 0.6878 - accuracy: 0.5360\n",
            "0.5360000133514404\n"
          ],
          "name": "stdout"
        }
      ]
    }
  ]
}